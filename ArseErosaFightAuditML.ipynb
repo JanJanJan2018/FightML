{
 "cells": [
  {
   "cell_type": "code",
   "execution_count": null,
   "metadata": {},
   "outputs": [],
   "source": [
    "### Predict the number of hits landed by Arse in UFC Fight Night: Dos Anjos vs. Lee\n",
    "https://www.espn.com/mma/fightcenter/_/id/401107798/league/ufc has access to the 3 rounds of 5 minutes fight 5/18/2019\n",
    "The csv file is found at: https://github.com/JanJanJan2018/FightML/blob/master/ArseErosaFightAudit.csv\n",
    "Predict the number of hits Arse lands based on the seconds into the round, elapsed since last action, \n",
    "cumulative number of hits received/landed/missed and number of hits received total for that round\n",
    "This data is split into a training set of 70% and a testing set of 30%\n",
    "based only on those instances action other than circling/standing/stepping away/toward/to the side occurs\n",
    "There are 224 instances of 156 training set samples of each second of action, \n",
    "and the remaining 68 are testing samples of each second of action. Only the first seven fields are used as feature predictor's \n",
    "on the hits landed by Arse feature field. Not all other fields used in this analysis.\n",
    "\n",
    "            "
   ]
  },
  {
   "cell_type": "markdown",
   "metadata": {},
   "source": [
    "###### Sci-kit learn's (sklearn) Decision Tree with max depth of 2 scored 82% as the best accuracy in prediction\n",
    "The next best sklearn modular ML algorithms were:\n",
    "    KNN with 79.4% accuracy\n",
    "    Random Forest with 76.5 % accuracy \n",
    "    logistic Regression with 78% accuracy\n",
    "    ensemble on logistic 74%, naive bayes 55%, and random forests with 71% accuracy\n",
    "    decision tree with 5 as max depth was 66% accuracy\n",
    "    decision tree with 10 as max depth was 69% accuracy\n",
    "Note: error with the keras perceptron (logistic regression:sigmoid/relu) and multilayer perceptrons (NNs)"
   ]
  },
  {
   "cell_type": "code",
   "execution_count": 36,
   "metadata": {},
   "outputs": [
    {
     "name": "stdout",
     "output_type": "stream",
     "text": [
      "Wall time: 31 ms\n"
     ]
    }
   ],
   "source": [
    "%%time\n",
    "\n",
    "%matplotlib inline\n",
    "import matplotlib.pyplot as plt\n",
    "import pandas as pd\n",
    "import numpy as np\n",
    "from sklearn.model_selection import train_test_split\n",
    "from sklearn import preprocessing\n",
    "from sklearn.metrics import classification_report, f1_score, accuracy_score, confusion_matrix\n",
    "\n",
    "# Read in the file for the dataset used in the final project due Week 8\n",
    "df = pd.read_csv('ArseErosaFightAudit.csv')\n",
    "\n"
   ]
  },
  {
   "cell_type": "code",
   "execution_count": 37,
   "metadata": {},
   "outputs": [
    {
     "data": {
      "text/html": [
       "<div>\n",
       "<style scoped>\n",
       "    .dataframe tbody tr th:only-of-type {\n",
       "        vertical-align: middle;\n",
       "    }\n",
       "\n",
       "    .dataframe tbody tr th {\n",
       "        vertical-align: top;\n",
       "    }\n",
       "\n",
       "    .dataframe thead th {\n",
       "        text-align: right;\n",
       "    }\n",
       "</style>\n",
       "<table border=\"1\" class=\"dataframe\">\n",
       "  <thead>\n",
       "    <tr style=\"text-align: right;\">\n",
       "      <th></th>\n",
       "      <th>Round</th>\n",
       "      <th>SecondsIntoRound</th>\n",
       "      <th>SecondsLastRoundAction</th>\n",
       "      <th>cmTotHitsR-A</th>\n",
       "      <th>cmTotHitsL-A</th>\n",
       "      <th>cmTotHitsM-A</th>\n",
       "      <th>Hits-Recvd-A</th>\n",
       "      <th>Hits-Lnd-A</th>\n",
       "      <th>Hits-Mssd-A</th>\n",
       "      <th>cmTotHitsR-E</th>\n",
       "      <th>cmTotHitsL-E</th>\n",
       "      <th>cmTotHitsM-E</th>\n",
       "      <th>Hits-Recvd-E</th>\n",
       "      <th>Hits-Lnd-E</th>\n",
       "      <th>Hits-Mssd-E</th>\n",
       "      <th>Time</th>\n",
       "      <th>ArseFighterActionReactions</th>\n",
       "      <th>ErosaFightersActionsReactions</th>\n",
       "    </tr>\n",
       "  </thead>\n",
       "  <tbody>\n",
       "    <tr>\n",
       "      <th>0</th>\n",
       "      <td>1</td>\n",
       "      <td>6</td>\n",
       "      <td>6</td>\n",
       "      <td>0</td>\n",
       "      <td>0</td>\n",
       "      <td>0</td>\n",
       "      <td>0</td>\n",
       "      <td>0</td>\n",
       "      <td>0</td>\n",
       "      <td>0</td>\n",
       "      <td>0</td>\n",
       "      <td>1</td>\n",
       "      <td>0</td>\n",
       "      <td>0</td>\n",
       "      <td>1</td>\n",
       "      <td>9:41</td>\n",
       "      <td>0</td>\n",
       "      <td>misses standing head strike front kick</td>\n",
       "    </tr>\n",
       "    <tr>\n",
       "      <th>1</th>\n",
       "      <td>1</td>\n",
       "      <td>19</td>\n",
       "      <td>13</td>\n",
       "      <td>0</td>\n",
       "      <td>0</td>\n",
       "      <td>0</td>\n",
       "      <td>0</td>\n",
       "      <td>0</td>\n",
       "      <td>0</td>\n",
       "      <td>0</td>\n",
       "      <td>0</td>\n",
       "      <td>2</td>\n",
       "      <td>0</td>\n",
       "      <td>0</td>\n",
       "      <td>1</td>\n",
       "      <td>9:54</td>\n",
       "      <td>0</td>\n",
       "      <td>misses standing head strike front kick</td>\n",
       "    </tr>\n",
       "    <tr>\n",
       "      <th>2</th>\n",
       "      <td>1</td>\n",
       "      <td>21</td>\n",
       "      <td>2</td>\n",
       "      <td>0</td>\n",
       "      <td>0</td>\n",
       "      <td>0</td>\n",
       "      <td>0</td>\n",
       "      <td>0</td>\n",
       "      <td>0</td>\n",
       "      <td>0</td>\n",
       "      <td>0</td>\n",
       "      <td>3</td>\n",
       "      <td>0</td>\n",
       "      <td>0</td>\n",
       "      <td>1</td>\n",
       "      <td>9:56</td>\n",
       "      <td>0</td>\n",
       "      <td>misses standing head strike R muay thai kick</td>\n",
       "    </tr>\n",
       "    <tr>\n",
       "      <th>3</th>\n",
       "      <td>1</td>\n",
       "      <td>24</td>\n",
       "      <td>3</td>\n",
       "      <td>1</td>\n",
       "      <td>0</td>\n",
       "      <td>0</td>\n",
       "      <td>1</td>\n",
       "      <td>0</td>\n",
       "      <td>0</td>\n",
       "      <td>0</td>\n",
       "      <td>1</td>\n",
       "      <td>3</td>\n",
       "      <td>0</td>\n",
       "      <td>1</td>\n",
       "      <td>0</td>\n",
       "      <td>9:59</td>\n",
       "      <td>0</td>\n",
       "      <td>lands low leg muay thai kick</td>\n",
       "    </tr>\n",
       "    <tr>\n",
       "      <th>4</th>\n",
       "      <td>1</td>\n",
       "      <td>36</td>\n",
       "      <td>12</td>\n",
       "      <td>1</td>\n",
       "      <td>0</td>\n",
       "      <td>1</td>\n",
       "      <td>0</td>\n",
       "      <td>0</td>\n",
       "      <td>1</td>\n",
       "      <td>0</td>\n",
       "      <td>1</td>\n",
       "      <td>4</td>\n",
       "      <td>0</td>\n",
       "      <td>0</td>\n",
       "      <td>1</td>\n",
       "      <td>10:11</td>\n",
       "      <td>misses R jab</td>\n",
       "      <td>misses L jab</td>\n",
       "    </tr>\n",
       "  </tbody>\n",
       "</table>\n",
       "</div>"
      ],
      "text/plain": [
       "   Round  SecondsIntoRound  SecondsLastRoundAction  cmTotHitsR-A  \\\n",
       "0      1                 6                       6             0   \n",
       "1      1                19                      13             0   \n",
       "2      1                21                       2             0   \n",
       "3      1                24                       3             1   \n",
       "4      1                36                      12             1   \n",
       "\n",
       "   cmTotHitsL-A  cmTotHitsM-A  Hits-Recvd-A  Hits-Lnd-A  Hits-Mssd-A  \\\n",
       "0             0             0             0           0            0   \n",
       "1             0             0             0           0            0   \n",
       "2             0             0             0           0            0   \n",
       "3             0             0             1           0            0   \n",
       "4             0             1             0           0            1   \n",
       "\n",
       "   cmTotHitsR-E  cmTotHitsL-E  cmTotHitsM-E  Hits-Recvd-E  Hits-Lnd-E  \\\n",
       "0             0             0             1             0           0   \n",
       "1             0             0             2             0           0   \n",
       "2             0             0             3             0           0   \n",
       "3             0             1             3             0           1   \n",
       "4             0             1             4             0           0   \n",
       "\n",
       "   Hits-Mssd-E   Time ArseFighterActionReactions  \\\n",
       "0            1   9:41                          0   \n",
       "1            1   9:54                          0   \n",
       "2            1   9:56                          0   \n",
       "3            0   9:59                          0   \n",
       "4            1  10:11               misses R jab   \n",
       "\n",
       "                  ErosaFightersActionsReactions  \n",
       "0        misses standing head strike front kick  \n",
       "1        misses standing head strike front kick  \n",
       "2  misses standing head strike R muay thai kick  \n",
       "3                  lands low leg muay thai kick  \n",
       "4                                  misses L jab  "
      ]
     },
     "execution_count": 37,
     "metadata": {},
     "output_type": "execute_result"
    }
   ],
   "source": [
    "df.head() #lists Type as the string factor names"
   ]
  },
  {
   "cell_type": "code",
   "execution_count": 76,
   "metadata": {},
   "outputs": [
    {
     "data": {
      "text/plain": [
       "Index([u'Round', u'SecondsIntoRound', u'SecondsLastRoundAction',\n",
       "       u'cmTotHitsR-A', u'cmTotHitsL-A', u'cmTotHitsM-A', u'Hits-Recvd-A',\n",
       "       u'Hits-Lnd-A', u'Hits-Mssd-A', u'cmTotHitsR-E', u'cmTotHitsL-E',\n",
       "       u'cmTotHitsM-E', u'Hits-Recvd-E', u'Hits-Lnd-E', u'Hits-Mssd-E',\n",
       "       u'Time', u'ArseFighterActionReactions',\n",
       "       u'ErosaFightersActionsReactions'],\n",
       "      dtype='object')"
      ]
     },
     "execution_count": 76,
     "metadata": {},
     "output_type": "execute_result"
    }
   ],
   "source": [
    "df.columns"
   ]
  },
  {
   "cell_type": "code",
   "execution_count": 79,
   "metadata": {},
   "outputs": [
    {
     "data": {
      "text/html": [
       "<div>\n",
       "<style scoped>\n",
       "    .dataframe tbody tr th:only-of-type {\n",
       "        vertical-align: middle;\n",
       "    }\n",
       "\n",
       "    .dataframe tbody tr th {\n",
       "        vertical-align: top;\n",
       "    }\n",
       "\n",
       "    .dataframe thead th {\n",
       "        text-align: right;\n",
       "    }\n",
       "</style>\n",
       "<table border=\"1\" class=\"dataframe\">\n",
       "  <thead>\n",
       "    <tr style=\"text-align: right;\">\n",
       "      <th></th>\n",
       "      <th>Round</th>\n",
       "      <th>SecondsIntoRound</th>\n",
       "      <th>SecondsLastRoundAction</th>\n",
       "      <th>cmTotHitsR-A</th>\n",
       "      <th>cmTotHitsL-A</th>\n",
       "      <th>cmTotHitsM-A</th>\n",
       "      <th>Hits-Recvd-A</th>\n",
       "      <th>Hits-Mssd-A</th>\n",
       "      <th>cmTotHitsR-E</th>\n",
       "      <th>cmTotHitsL-E</th>\n",
       "      <th>cmTotHitsM-E</th>\n",
       "      <th>Hits-Recvd-E</th>\n",
       "    </tr>\n",
       "  </thead>\n",
       "  <tbody>\n",
       "    <tr>\n",
       "      <th>1</th>\n",
       "      <td>1</td>\n",
       "      <td>19</td>\n",
       "      <td>13</td>\n",
       "      <td>0</td>\n",
       "      <td>0</td>\n",
       "      <td>0</td>\n",
       "      <td>0</td>\n",
       "      <td>0</td>\n",
       "      <td>0</td>\n",
       "      <td>0</td>\n",
       "      <td>2</td>\n",
       "      <td>0</td>\n",
       "    </tr>\n",
       "    <tr>\n",
       "      <th>2</th>\n",
       "      <td>1</td>\n",
       "      <td>21</td>\n",
       "      <td>2</td>\n",
       "      <td>0</td>\n",
       "      <td>0</td>\n",
       "      <td>0</td>\n",
       "      <td>0</td>\n",
       "      <td>0</td>\n",
       "      <td>0</td>\n",
       "      <td>0</td>\n",
       "      <td>3</td>\n",
       "      <td>0</td>\n",
       "    </tr>\n",
       "    <tr>\n",
       "      <th>3</th>\n",
       "      <td>1</td>\n",
       "      <td>24</td>\n",
       "      <td>3</td>\n",
       "      <td>1</td>\n",
       "      <td>0</td>\n",
       "      <td>0</td>\n",
       "      <td>1</td>\n",
       "      <td>0</td>\n",
       "      <td>0</td>\n",
       "      <td>1</td>\n",
       "      <td>3</td>\n",
       "      <td>0</td>\n",
       "    </tr>\n",
       "    <tr>\n",
       "      <th>4</th>\n",
       "      <td>1</td>\n",
       "      <td>36</td>\n",
       "      <td>12</td>\n",
       "      <td>1</td>\n",
       "      <td>0</td>\n",
       "      <td>1</td>\n",
       "      <td>0</td>\n",
       "      <td>1</td>\n",
       "      <td>0</td>\n",
       "      <td>1</td>\n",
       "      <td>4</td>\n",
       "      <td>0</td>\n",
       "    </tr>\n",
       "    <tr>\n",
       "      <th>5</th>\n",
       "      <td>1</td>\n",
       "      <td>39</td>\n",
       "      <td>3</td>\n",
       "      <td>2</td>\n",
       "      <td>0</td>\n",
       "      <td>1</td>\n",
       "      <td>1</td>\n",
       "      <td>0</td>\n",
       "      <td>0</td>\n",
       "      <td>2</td>\n",
       "      <td>4</td>\n",
       "      <td>0</td>\n",
       "    </tr>\n",
       "    <tr>\n",
       "      <th>6</th>\n",
       "      <td>1</td>\n",
       "      <td>46</td>\n",
       "      <td>7</td>\n",
       "      <td>2</td>\n",
       "      <td>0</td>\n",
       "      <td>2</td>\n",
       "      <td>0</td>\n",
       "      <td>1</td>\n",
       "      <td>0</td>\n",
       "      <td>2</td>\n",
       "      <td>4</td>\n",
       "      <td>0</td>\n",
       "    </tr>\n",
       "    <tr>\n",
       "      <th>7</th>\n",
       "      <td>1</td>\n",
       "      <td>49</td>\n",
       "      <td>3</td>\n",
       "      <td>2</td>\n",
       "      <td>0</td>\n",
       "      <td>2</td>\n",
       "      <td>0</td>\n",
       "      <td>0</td>\n",
       "      <td>0</td>\n",
       "      <td>2</td>\n",
       "      <td>5</td>\n",
       "      <td>0</td>\n",
       "    </tr>\n",
       "    <tr>\n",
       "      <th>8</th>\n",
       "      <td>1</td>\n",
       "      <td>51</td>\n",
       "      <td>2</td>\n",
       "      <td>2</td>\n",
       "      <td>0</td>\n",
       "      <td>2</td>\n",
       "      <td>0</td>\n",
       "      <td>0</td>\n",
       "      <td>0</td>\n",
       "      <td>2</td>\n",
       "      <td>6</td>\n",
       "      <td>0</td>\n",
       "    </tr>\n",
       "    <tr>\n",
       "      <th>9</th>\n",
       "      <td>1</td>\n",
       "      <td>57</td>\n",
       "      <td>6</td>\n",
       "      <td>2</td>\n",
       "      <td>0</td>\n",
       "      <td>3</td>\n",
       "      <td>0</td>\n",
       "      <td>1</td>\n",
       "      <td>0</td>\n",
       "      <td>2</td>\n",
       "      <td>6</td>\n",
       "      <td>0</td>\n",
       "    </tr>\n",
       "  </tbody>\n",
       "</table>\n",
       "</div>"
      ],
      "text/plain": [
       "   Round  SecondsIntoRound  SecondsLastRoundAction  cmTotHitsR-A  \\\n",
       "1      1                19                      13             0   \n",
       "2      1                21                       2             0   \n",
       "3      1                24                       3             1   \n",
       "4      1                36                      12             1   \n",
       "5      1                39                       3             2   \n",
       "6      1                46                       7             2   \n",
       "7      1                49                       3             2   \n",
       "8      1                51                       2             2   \n",
       "9      1                57                       6             2   \n",
       "\n",
       "   cmTotHitsL-A  cmTotHitsM-A  Hits-Recvd-A  Hits-Mssd-A  cmTotHitsR-E  \\\n",
       "1             0             0             0            0             0   \n",
       "2             0             0             0            0             0   \n",
       "3             0             0             1            0             0   \n",
       "4             0             1             0            1             0   \n",
       "5             0             1             1            0             0   \n",
       "6             0             2             0            1             0   \n",
       "7             0             2             0            0             0   \n",
       "8             0             2             0            0             0   \n",
       "9             0             3             0            1             0   \n",
       "\n",
       "   cmTotHitsL-E  cmTotHitsM-E  Hits-Recvd-E  \n",
       "1             0             2             0  \n",
       "2             0             3             0  \n",
       "3             1             3             0  \n",
       "4             1             4             0  \n",
       "5             2             4             0  \n",
       "6             2             4             0  \n",
       "7             2             5             0  \n",
       "8             2             6             0  \n",
       "9             2             6             0  "
      ]
     },
     "execution_count": 79,
     "metadata": {},
     "output_type": "execute_result"
    }
   ],
   "source": [
    "df.iloc[1:10,[0,1,2,3,4,5,6,8,9,10,11,12]]"
   ]
  },
  {
   "cell_type": "code",
   "execution_count": 80,
   "metadata": {},
   "outputs": [
    {
     "data": {
      "text/html": [
       "<div>\n",
       "<style scoped>\n",
       "    .dataframe tbody tr th:only-of-type {\n",
       "        vertical-align: middle;\n",
       "    }\n",
       "\n",
       "    .dataframe tbody tr th {\n",
       "        vertical-align: top;\n",
       "    }\n",
       "\n",
       "    .dataframe thead th {\n",
       "        text-align: right;\n",
       "    }\n",
       "</style>\n",
       "<table border=\"1\" class=\"dataframe\">\n",
       "  <thead>\n",
       "    <tr style=\"text-align: right;\">\n",
       "      <th></th>\n",
       "      <th>Round</th>\n",
       "      <th>SecondsIntoRound</th>\n",
       "      <th>SecondsLastRoundAction</th>\n",
       "      <th>cmTotHitsR-A</th>\n",
       "      <th>cmTotHitsL-A</th>\n",
       "      <th>cmTotHitsM-A</th>\n",
       "      <th>Hits-Recvd-A</th>\n",
       "    </tr>\n",
       "  </thead>\n",
       "  <tbody>\n",
       "    <tr>\n",
       "      <th>1</th>\n",
       "      <td>1</td>\n",
       "      <td>19</td>\n",
       "      <td>13</td>\n",
       "      <td>0</td>\n",
       "      <td>0</td>\n",
       "      <td>0</td>\n",
       "      <td>0</td>\n",
       "    </tr>\n",
       "    <tr>\n",
       "      <th>2</th>\n",
       "      <td>1</td>\n",
       "      <td>21</td>\n",
       "      <td>2</td>\n",
       "      <td>0</td>\n",
       "      <td>0</td>\n",
       "      <td>0</td>\n",
       "      <td>0</td>\n",
       "    </tr>\n",
       "    <tr>\n",
       "      <th>3</th>\n",
       "      <td>1</td>\n",
       "      <td>24</td>\n",
       "      <td>3</td>\n",
       "      <td>1</td>\n",
       "      <td>0</td>\n",
       "      <td>0</td>\n",
       "      <td>1</td>\n",
       "    </tr>\n",
       "    <tr>\n",
       "      <th>4</th>\n",
       "      <td>1</td>\n",
       "      <td>36</td>\n",
       "      <td>12</td>\n",
       "      <td>1</td>\n",
       "      <td>0</td>\n",
       "      <td>1</td>\n",
       "      <td>0</td>\n",
       "    </tr>\n",
       "  </tbody>\n",
       "</table>\n",
       "</div>"
      ],
      "text/plain": [
       "   Round  SecondsIntoRound  SecondsLastRoundAction  cmTotHitsR-A  \\\n",
       "1      1                19                      13             0   \n",
       "2      1                21                       2             0   \n",
       "3      1                24                       3             1   \n",
       "4      1                36                      12             1   \n",
       "\n",
       "   cmTotHitsL-A  cmTotHitsM-A  Hits-Recvd-A  \n",
       "1             0             0             0  \n",
       "2             0             0             0  \n",
       "3             0             0             1  \n",
       "4             0             1             0  "
      ]
     },
     "execution_count": 80,
     "metadata": {},
     "output_type": "execute_result"
    }
   ],
   "source": [
    "df.iloc[1:5,0:7]"
   ]
  },
  {
   "cell_type": "code",
   "execution_count": 81,
   "metadata": {},
   "outputs": [
    {
     "data": {
      "text/html": [
       "<div>\n",
       "<style scoped>\n",
       "    .dataframe tbody tr th:only-of-type {\n",
       "        vertical-align: middle;\n",
       "    }\n",
       "\n",
       "    .dataframe tbody tr th {\n",
       "        vertical-align: top;\n",
       "    }\n",
       "\n",
       "    .dataframe thead th {\n",
       "        text-align: right;\n",
       "    }\n",
       "</style>\n",
       "<table border=\"1\" class=\"dataframe\">\n",
       "  <thead>\n",
       "    <tr style=\"text-align: right;\">\n",
       "      <th></th>\n",
       "      <th>Round</th>\n",
       "      <th>SecondsIntoRound</th>\n",
       "      <th>SecondsLastRoundAction</th>\n",
       "      <th>cmTotHitsR-A</th>\n",
       "      <th>cmTotHitsL-A</th>\n",
       "      <th>cmTotHitsM-A</th>\n",
       "      <th>Hits-Recvd-A</th>\n",
       "      <th>Hits-Lnd-A</th>\n",
       "      <th>Hits-Mssd-A</th>\n",
       "      <th>cmTotHitsR-E</th>\n",
       "      <th>cmTotHitsL-E</th>\n",
       "      <th>cmTotHitsM-E</th>\n",
       "      <th>Hits-Recvd-E</th>\n",
       "      <th>Hits-Lnd-E</th>\n",
       "      <th>Hits-Mssd-E</th>\n",
       "    </tr>\n",
       "  </thead>\n",
       "  <tbody>\n",
       "    <tr>\n",
       "      <th>count</th>\n",
       "      <td>224.000000</td>\n",
       "      <td>224.000000</td>\n",
       "      <td>224.000000</td>\n",
       "      <td>224.000000</td>\n",
       "      <td>224.000000</td>\n",
       "      <td>224.000000</td>\n",
       "      <td>224.000000</td>\n",
       "      <td>224.000000</td>\n",
       "      <td>224.000000</td>\n",
       "      <td>224.000000</td>\n",
       "      <td>224.00000</td>\n",
       "      <td>224.000000</td>\n",
       "      <td>224.000000</td>\n",
       "      <td>224.000000</td>\n",
       "      <td>224.000000</td>\n",
       "    </tr>\n",
       "    <tr>\n",
       "      <th>mean</th>\n",
       "      <td>1.964286</td>\n",
       "      <td>136.888393</td>\n",
       "      <td>3.183036</td>\n",
       "      <td>4.357143</td>\n",
       "      <td>7.910714</td>\n",
       "      <td>14.459821</td>\n",
       "      <td>0.120536</td>\n",
       "      <td>0.209821</td>\n",
       "      <td>0.366071</td>\n",
       "      <td>7.406250</td>\n",
       "      <td>4.53125</td>\n",
       "      <td>21.491071</td>\n",
       "      <td>0.191964</td>\n",
       "      <td>0.129464</td>\n",
       "      <td>0.535714</td>\n",
       "    </tr>\n",
       "    <tr>\n",
       "      <th>std</th>\n",
       "      <td>0.756776</td>\n",
       "      <td>90.940532</td>\n",
       "      <td>3.481853</td>\n",
       "      <td>3.425981</td>\n",
       "      <td>5.286506</td>\n",
       "      <td>9.077059</td>\n",
       "      <td>0.326316</td>\n",
       "      <td>0.418937</td>\n",
       "      <td>0.527207</td>\n",
       "      <td>5.115715</td>\n",
       "      <td>3.47946</td>\n",
       "      <td>13.257367</td>\n",
       "      <td>0.405929</td>\n",
       "      <td>0.349539</td>\n",
       "      <td>0.542847</td>\n",
       "    </tr>\n",
       "    <tr>\n",
       "      <th>min</th>\n",
       "      <td>1.000000</td>\n",
       "      <td>1.000000</td>\n",
       "      <td>0.000000</td>\n",
       "      <td>0.000000</td>\n",
       "      <td>0.000000</td>\n",
       "      <td>0.000000</td>\n",
       "      <td>0.000000</td>\n",
       "      <td>0.000000</td>\n",
       "      <td>0.000000</td>\n",
       "      <td>0.000000</td>\n",
       "      <td>0.00000</td>\n",
       "      <td>0.000000</td>\n",
       "      <td>0.000000</td>\n",
       "      <td>0.000000</td>\n",
       "      <td>0.000000</td>\n",
       "    </tr>\n",
       "    <tr>\n",
       "      <th>25%</th>\n",
       "      <td>1.000000</td>\n",
       "      <td>58.750000</td>\n",
       "      <td>1.000000</td>\n",
       "      <td>2.000000</td>\n",
       "      <td>3.750000</td>\n",
       "      <td>7.750000</td>\n",
       "      <td>0.000000</td>\n",
       "      <td>0.000000</td>\n",
       "      <td>0.000000</td>\n",
       "      <td>3.000000</td>\n",
       "      <td>2.00000</td>\n",
       "      <td>11.000000</td>\n",
       "      <td>0.000000</td>\n",
       "      <td>0.000000</td>\n",
       "      <td>0.000000</td>\n",
       "    </tr>\n",
       "    <tr>\n",
       "      <th>50%</th>\n",
       "      <td>2.000000</td>\n",
       "      <td>124.000000</td>\n",
       "      <td>2.000000</td>\n",
       "      <td>4.000000</td>\n",
       "      <td>8.000000</td>\n",
       "      <td>14.000000</td>\n",
       "      <td>0.000000</td>\n",
       "      <td>0.000000</td>\n",
       "      <td>0.000000</td>\n",
       "      <td>7.000000</td>\n",
       "      <td>4.00000</td>\n",
       "      <td>20.000000</td>\n",
       "      <td>0.000000</td>\n",
       "      <td>0.000000</td>\n",
       "      <td>1.000000</td>\n",
       "    </tr>\n",
       "    <tr>\n",
       "      <th>75%</th>\n",
       "      <td>3.000000</td>\n",
       "      <td>223.250000</td>\n",
       "      <td>4.000000</td>\n",
       "      <td>5.000000</td>\n",
       "      <td>13.000000</td>\n",
       "      <td>21.000000</td>\n",
       "      <td>0.000000</td>\n",
       "      <td>0.000000</td>\n",
       "      <td>1.000000</td>\n",
       "      <td>12.000000</td>\n",
       "      <td>6.00000</td>\n",
       "      <td>30.250000</td>\n",
       "      <td>0.000000</td>\n",
       "      <td>0.000000</td>\n",
       "      <td>1.000000</td>\n",
       "    </tr>\n",
       "    <tr>\n",
       "      <th>max</th>\n",
       "      <td>3.000000</td>\n",
       "      <td>302.000000</td>\n",
       "      <td>20.000000</td>\n",
       "      <td>14.000000</td>\n",
       "      <td>17.000000</td>\n",
       "      <td>35.000000</td>\n",
       "      <td>1.000000</td>\n",
       "      <td>2.000000</td>\n",
       "      <td>2.000000</td>\n",
       "      <td>16.000000</td>\n",
       "      <td>14.00000</td>\n",
       "      <td>54.000000</td>\n",
       "      <td>2.000000</td>\n",
       "      <td>2.000000</td>\n",
       "      <td>2.000000</td>\n",
       "    </tr>\n",
       "  </tbody>\n",
       "</table>\n",
       "</div>"
      ],
      "text/plain": [
       "            Round  SecondsIntoRound  SecondsLastRoundAction  cmTotHitsR-A  \\\n",
       "count  224.000000        224.000000              224.000000    224.000000   \n",
       "mean     1.964286        136.888393                3.183036      4.357143   \n",
       "std      0.756776         90.940532                3.481853      3.425981   \n",
       "min      1.000000          1.000000                0.000000      0.000000   \n",
       "25%      1.000000         58.750000                1.000000      2.000000   \n",
       "50%      2.000000        124.000000                2.000000      4.000000   \n",
       "75%      3.000000        223.250000                4.000000      5.000000   \n",
       "max      3.000000        302.000000               20.000000     14.000000   \n",
       "\n",
       "       cmTotHitsL-A  cmTotHitsM-A  Hits-Recvd-A  Hits-Lnd-A  Hits-Mssd-A  \\\n",
       "count    224.000000    224.000000    224.000000  224.000000   224.000000   \n",
       "mean       7.910714     14.459821      0.120536    0.209821     0.366071   \n",
       "std        5.286506      9.077059      0.326316    0.418937     0.527207   \n",
       "min        0.000000      0.000000      0.000000    0.000000     0.000000   \n",
       "25%        3.750000      7.750000      0.000000    0.000000     0.000000   \n",
       "50%        8.000000     14.000000      0.000000    0.000000     0.000000   \n",
       "75%       13.000000     21.000000      0.000000    0.000000     1.000000   \n",
       "max       17.000000     35.000000      1.000000    2.000000     2.000000   \n",
       "\n",
       "       cmTotHitsR-E  cmTotHitsL-E  cmTotHitsM-E  Hits-Recvd-E  Hits-Lnd-E  \\\n",
       "count    224.000000     224.00000    224.000000    224.000000  224.000000   \n",
       "mean       7.406250       4.53125     21.491071      0.191964    0.129464   \n",
       "std        5.115715       3.47946     13.257367      0.405929    0.349539   \n",
       "min        0.000000       0.00000      0.000000      0.000000    0.000000   \n",
       "25%        3.000000       2.00000     11.000000      0.000000    0.000000   \n",
       "50%        7.000000       4.00000     20.000000      0.000000    0.000000   \n",
       "75%       12.000000       6.00000     30.250000      0.000000    0.000000   \n",
       "max       16.000000      14.00000     54.000000      2.000000    2.000000   \n",
       "\n",
       "       Hits-Mssd-E  \n",
       "count   224.000000  \n",
       "mean      0.535714  \n",
       "std       0.542847  \n",
       "min       0.000000  \n",
       "25%       0.000000  \n",
       "50%       1.000000  \n",
       "75%       1.000000  \n",
       "max       2.000000  "
      ]
     },
     "execution_count": 81,
     "metadata": {},
     "output_type": "execute_result"
    }
   ],
   "source": [
    "df.describe()"
   ]
  },
  {
   "cell_type": "markdown",
   "metadata": {},
   "source": [
    "### Lets make the target variable the 'Hits-lnd-A'-6 based on the first 6 fields: \n"
   ]
  },
  {
   "cell_type": "markdown",
   "metadata": {},
   "source": [
    "## Split the data into 70% Training and 30% Testing Samples"
   ]
  },
  {
   "cell_type": "code",
   "execution_count": 40,
   "metadata": {},
   "outputs": [
    {
     "name": "stdout",
     "output_type": "stream",
     "text": [
      "(156L, 7L)\n",
      "(68L, 7L)\n",
      "(156L,)\n",
      "(68L,)\n",
      "(156L, 7L)\n"
     ]
    }
   ],
   "source": [
    "X = df.iloc[:,0:7].values # returns array of all instances other than the target\n",
    "y = df.iloc[:, 7] .values # returns array of all instances of the target\n",
    "\n",
    "X_train, X_test, y_train, y_test = train_test_split(\n",
    "    X, y, test_size=0.3, random_state=20)\n",
    "print(X_train.shape)\n",
    "print(X_test.shape)\n",
    "print(y_train.shape)\n",
    "print(y_test.shape)\n",
    "print(X_train.shape)"
   ]
  },
  {
   "cell_type": "markdown",
   "metadata": {},
   "source": [
    "### There are 156 training samples and 68 testing samples with above split of 70-30"
   ]
  },
  {
   "cell_type": "code",
   "execution_count": 41,
   "metadata": {},
   "outputs": [],
   "source": [
    "stdscaler = preprocessing.StandardScaler().fit(X_train)\n",
    "X_scaled  = stdscaler.transform(X)\n",
    "X_train_scaled = stdscaler.transform(X_train)\n",
    "X_test_scaled  = stdscaler.transform(X_test)"
   ]
  },
  {
   "cell_type": "code",
   "execution_count": 42,
   "metadata": {},
   "outputs": [
    {
     "name": "stdout",
     "output_type": "stream",
     "text": [
      "Training set samples:  156\n",
      "Testing set samples:  68\n"
     ]
    }
   ],
   "source": [
    "print \"Training set samples: \", len(X_train)\n",
    "print \"Testing set samples: \", len(X_test)"
   ]
  },
  {
   "cell_type": "code",
   "execution_count": 43,
   "metadata": {},
   "outputs": [],
   "source": [
    "X_train_std = X_train_scaled\n",
    "X_test_std = X_test_scaled"
   ]
  },
  {
   "cell_type": "markdown",
   "metadata": {},
   "source": [
    "### KNN"
   ]
  },
  {
   "cell_type": "code",
   "execution_count": 44,
   "metadata": {},
   "outputs": [
    {
     "name": "stdout",
     "output_type": "stream",
     "text": [
      "Wall time: 0 ns\n"
     ]
    },
    {
     "data": {
      "text/plain": [
       "KNeighborsClassifier(algorithm='auto', leaf_size=30, metric='minkowski',\n",
       "           metric_params=None, n_jobs=None, n_neighbors=5, p=2,\n",
       "           weights='uniform')"
      ]
     },
     "execution_count": 44,
     "metadata": {},
     "output_type": "execute_result"
    }
   ],
   "source": [
    "import matplotlib.pyplot as plt\n",
    "from sklearn.neighbors import KNeighborsClassifier\n",
    "% time\n",
    "knn = KNeighborsClassifier()\n",
    "knn.fit(X_train,\n",
    "        y_train)"
   ]
  },
  {
   "cell_type": "code",
   "execution_count": 45,
   "metadata": {},
   "outputs": [
    {
     "name": "stdout",
     "output_type": "stream",
     "text": [
      "Wall time: 0 ns\n"
     ]
    }
   ],
   "source": [
    "% time\n",
    "y_pred = knn.predict(X_test)#_std)"
   ]
  },
  {
   "cell_type": "code",
   "execution_count": 46,
   "metadata": {},
   "outputs": [
    {
     "name": "stdout",
     "output_type": "stream",
     "text": [
      "[[52  4]\n",
      " [10  2]]\n",
      "Accuracy:  0.7941176470588235\n"
     ]
    }
   ],
   "source": [
    "from sklearn.metrics import confusion_matrix\n",
    "from sklearn.metrics import accuracy_score\n",
    "cm = confusion_matrix(y_test, y_pred)\n",
    "print cm\n",
    "print 'Accuracy: ',accuracy_score(y_test, y_pred)\n"
   ]
  },
  {
   "cell_type": "markdown",
   "metadata": {},
   "source": [
    "### Decision Trees\n"
   ]
  },
  {
   "cell_type": "code",
   "execution_count": 47,
   "metadata": {},
   "outputs": [],
   "source": [
    "import matplotlib.pyplot as plt\n",
    "import pandas as pd\n",
    "import numpy as np\n",
    "from sklearn.model_selection import train_test_split\n",
    "from sklearn import preprocessing, tree\n",
    "from sklearn.metrics import classification_report, confusion_matrix\n",
    "\n"
   ]
  },
  {
   "cell_type": "code",
   "execution_count": 48,
   "metadata": {},
   "outputs": [
    {
     "name": "stdout",
     "output_type": "stream",
     "text": [
      "Wall time: 0 ns\n",
      "Decision Tree Results\n",
      "Confusion Matrix: \n",
      "[[43 12  1]\n",
      " [10  2  0]\n",
      " [ 0  0  0]]\n",
      "\n",
      " Classifcation Report\n",
      "              precision    recall  f1-score   support\n",
      "\n",
      "           0       0.81      0.77      0.79        56\n",
      "           1       0.14      0.17      0.15        12\n",
      "           2       0.00      0.00      0.00         0\n",
      "\n",
      "   micro avg       0.66      0.66      0.66        68\n",
      "   macro avg       0.32      0.31      0.31        68\n",
      "weighted avg       0.69      0.66      0.68        68\n",
      "\n"
     ]
    }
   ],
   "source": [
    "% time\n",
    "dtc = tree.DecisionTreeClassifier(criterion='entropy')#, max_depth=3)\n",
    "dtc.fit(X_train, y_train)\n",
    "predicted = dtc.predict(X_test)\n",
    "\n",
    "print \"Decision Tree Results\\nConfusion Matrix: \"\n",
    "print confusion_matrix(y_test,predicted)\n",
    "print \"\\n Classifcation Report\"\n",
    "print classification_report(y_test,predicted)"
   ]
  },
  {
   "cell_type": "markdown",
   "metadata": {},
   "source": [
    "### Decision Tree Regression"
   ]
  },
  {
   "cell_type": "code",
   "execution_count": 49,
   "metadata": {},
   "outputs": [],
   "source": [
    "#Week 7 ipynb\n",
    "\n",
    "%matplotlib inline\n",
    "import pandas as pd \n",
    "import numpy as np\n",
    "import matplotlib.pyplot as plt\n",
    "from sklearn import preprocessing\n",
    "from sklearn.model_selection import train_test_split\n",
    "\n"
   ]
  },
  {
   "cell_type": "code",
   "execution_count": 50,
   "metadata": {},
   "outputs": [],
   "source": [
    "import random #keep the same results when running the code, as results vary with each run of code\n",
    "random.seed(100)"
   ]
  },
  {
   "cell_type": "code",
   "execution_count": 51,
   "metadata": {},
   "outputs": [
    {
     "name": "stdout",
     "output_type": "stream",
     "text": [
      "Wall time: 0 ns\n",
      "Wall time: 0 ns\n"
     ]
    }
   ],
   "source": [
    "# Fit regression model\n",
    "% time\n",
    "regr_1 = tree.DecisionTreeRegressor(max_depth=2)\n",
    "regr_2 = tree.DecisionTreeRegressor(max_depth=5)\n",
    "regr_3 = tree.DecisionTreeRegressor(max_depth=10)\n",
    "regr_1.fit(X_train, y_train)\n",
    "regr_2.fit(X_train, y_train)\n",
    "regr_3.fit(X_train, y_train)\n",
    "\n",
    "# Predict\n",
    "#X_test = np.arange(0.0, 300, 0.1)[:, np.newaxis]\n",
    "y_1 = regr_1.predict(X_test)\n",
    "y_2 = regr_2.predict(X_test)\n",
    "y_3 = regr_3.predict(X_test)\n",
    "% time"
   ]
  },
  {
   "cell_type": "code",
   "execution_count": 52,
   "metadata": {},
   "outputs": [],
   "source": [
    "import matplotlib.pyplot as plt\n",
    "import pandas as pd\n",
    "import numpy as np\n",
    "from sklearn.model_selection import train_test_split\n",
    "from sklearn import preprocessing, tree\n",
    "from sklearn.metrics import classification_report, confusion_matrix\n",
    "\n"
   ]
  },
  {
   "cell_type": "code",
   "execution_count": 53,
   "metadata": {},
   "outputs": [
    {
     "name": "stdout",
     "output_type": "stream",
     "text": [
      "Decision Tree Regression Prediction with Max Depth=2\n",
      "[0. 0. 0. 0. 0. 0. 0. 0. 0. 0. 0. 0. 0. 0. 0. 0. 0. 0. 0. 0. 0. 0. 0. 0.\n",
      " 0. 0. 0. 0. 0. 0. 0. 0. 0. 0. 0. 0. 0. 0. 0. 0. 0. 0. 0. 0. 0. 0. 0. 0.\n",
      " 0. 0. 0. 0. 0. 0. 0. 0. 0. 0. 0. 0. 0. 0. 0. 0. 0. 0. 0. 0.]\n",
      "\n",
      "Actual Testing Subset Categorical Values:\n",
      "[0 0 1 1 0 0 0 0 0 0 0 0 1 1 0 0 0 0 0 1 0 0 0 0 0 0 0 0 1 0 0 0 0 0 0 1 0\n",
      " 1 1 0 0 1 0 0 0 0 0 0 0 1 0 1 0 0 0 0 0 0 0 0 0 0 0 0 0 0 0 0]\n",
      "\n",
      "Decision Tree Results Max Depth=2\n",
      "Confusion Matrix: \n",
      "[[56  0]\n",
      " [12  0]]\n",
      "\n",
      " Classifcation Report\n",
      "              precision    recall  f1-score   support\n",
      "\n",
      "           0       0.82      1.00      0.90        56\n",
      "           1       0.00      0.00      0.00        12\n",
      "\n",
      "   micro avg       0.82      0.82      0.82        68\n",
      "   macro avg       0.41      0.50      0.45        68\n",
      "weighted avg       0.68      0.82      0.74        68\n",
      "\n",
      "The number of testing samples:\n",
      "68\n",
      "The number of correct predictions:\n",
      "56\n",
      "[ True  True False False  True  True  True  True  True  True  True  True\n",
      " False False  True  True  True  True  True False  True  True  True  True\n",
      "  True  True  True  True False  True  True  True  True  True  True False\n",
      "  True False False  True  True False  True  True  True  True  True  True\n",
      "  True False  True False  True  True  True  True  True  True  True  True\n",
      "  True  True  True  True  True  True  True  True]\n",
      "\n",
      "Accuracy of Decision Tree with Max Depth=2\n",
      "0.82 %\n"
     ]
    }
   ],
   "source": [
    "print \"Decision Tree Regression Prediction with Max Depth=2\" \n",
    "print y_1.round()\n",
    "print \"\\nActual Testing Subset Categorical Values:\"\n",
    "print y_test\n",
    "\n",
    "print \"\\nDecision Tree Results Max Depth=2\\nConfusion Matrix: \"\n",
    "print confusion_matrix(y_test,y_1.round())\n",
    "print \"\\n Classifcation Report\"\n",
    "print classification_report(y_test,y_1.round())\n",
    "\n",
    "a=sum(y_1.round()==y_test)\n",
    "b= len(y_test)\n",
    "print 'The number of testing samples:'\n",
    "print b\n",
    "print 'The number of correct predictions:'\n",
    "print a\n",
    "\n",
    "print y_1.round() == y_test\n",
    "print \"\\nAccuracy of Decision Tree with Max Depth=2\"\n",
    "print round(float(a)/float(b),2),\"%\"\n"
   ]
  },
  {
   "cell_type": "code",
   "execution_count": 54,
   "metadata": {},
   "outputs": [
    {
     "name": "stdout",
     "output_type": "stream",
     "text": [
      "Decision Tree Regression Prediction with Max Depth=5\n",
      "[0. 0. 0. 0. 0. 0. 0. 1. 0. 0. 0. 0. 0. 0. 0. 0. 1. 0. 0. 0. 0. 0. 1. 1.\n",
      " 1. 0. 0. 0. 0. 0. 1. 0. 0. 0. 0. 1. 0. 0. 0. 1. 0. 0. 1. 0. 0. 0. 0. 1.\n",
      " 0. 0. 1. 0. 0. 0. 0. 0. 0. 0. 0. 0. 0. 0. 0. 0. 0. 0. 1. 1.]\n",
      "\n",
      "Actual Testing Subset Categorical Values:\n",
      "[0 0 1 1 0 0 0 0 0 0 0 0 1 1 0 0 0 0 0 1 0 0 0 0 0 0 0 0 1 0 0 0 0 0 0 1 0\n",
      " 1 1 0 0 1 0 0 0 0 0 0 0 1 0 1 0 0 0 0 0 0 0 0 0 0 0 0 0 0 0 0]\n",
      "\n",
      "Decision Tree Results\n",
      "Confusion Matrix: \n",
      "[[44 12]\n",
      " [11  1]]\n",
      "\n",
      " Classifcation Report\n",
      "              precision    recall  f1-score   support\n",
      "\n",
      "           0       0.80      0.79      0.79        56\n",
      "           1       0.08      0.08      0.08        12\n",
      "\n",
      "   micro avg       0.66      0.66      0.66        68\n",
      "   macro avg       0.44      0.43      0.44        68\n",
      "weighted avg       0.67      0.66      0.67        68\n",
      "\n"
     ]
    }
   ],
   "source": [
    "print \"Decision Tree Regression Prediction with Max Depth=5\" \n",
    "print y_2.round()\n",
    "print \"\\nActual Testing Subset Categorical Values:\"\n",
    "print y_test\n",
    "\n",
    "print \"\\nDecision Tree Results\\nConfusion Matrix: \"\n",
    "print confusion_matrix(y_test,y_2.round())\n",
    "print \"\\n Classifcation Report\"\n",
    "print classification_report(y_test,y_2.round())"
   ]
  },
  {
   "cell_type": "code",
   "execution_count": 55,
   "metadata": {},
   "outputs": [
    {
     "name": "stdout",
     "output_type": "stream",
     "text": [
      "The number of testing samples:\n",
      "68\n",
      "The number of correct predictions:\n",
      "45\n",
      "[ True  True False False  True  True  True False  True  True  True  True\n",
      " False False  True  True False  True  True False  True  True False False\n",
      " False  True  True  True False  True False  True  True  True  True  True\n",
      "  True False False False  True False False  True  True  True  True False\n",
      "  True False False False  True  True  True  True  True  True  True  True\n",
      "  True  True  True  True  True  True False False]\n",
      "\n",
      "Accuracy of Decision Tree with Max Depth=5\n",
      "0.66 %\n"
     ]
    }
   ],
   "source": [
    "a=sum(y_2.round()==y_test)\n",
    "b= len(y_test)\n",
    "print 'The number of testing samples:'\n",
    "print b\n",
    "print 'The number of correct predictions:'\n",
    "print a\n",
    "\n",
    "print y_2.round() == y_test\n",
    "print \"\\nAccuracy of Decision Tree with Max Depth=5\"\n",
    "print round(float(a)/float(b),2),\"%\""
   ]
  },
  {
   "cell_type": "markdown",
   "metadata": {},
   "source": [
    "### Decision Tree with Max Depth = 5 and Max Depth = 10 produced similar results"
   ]
  },
  {
   "cell_type": "code",
   "execution_count": 56,
   "metadata": {},
   "outputs": [
    {
     "name": "stdout",
     "output_type": "stream",
     "text": [
      "Decision Tree Regression Prediction with Max Depth=10\n",
      "[0. 0. 0. 0. 0. 0. 1. 1. 0. 0. 0. 1. 0. 0. 0. 0. 1. 1. 0. 0. 0. 0. 1. 1.\n",
      " 1. 0. 0. 0. 1. 1. 0. 0. 0. 0. 0. 1. 0. 0. 0. 0. 0. 0. 1. 0. 0. 0. 0. 0.\n",
      " 0. 0. 1. 0. 1. 0. 1. 0. 0. 0. 0. 0. 0. 1. 0. 0. 0. 0. 1. 0.]\n",
      "\n",
      "Actual Testing Subset Categorical Values:\n",
      "[0 0 1 1 0 0 0 0 0 0 0 0 1 1 0 0 0 0 0 1 0 0 0 0 0 0 0 0 1 0 0 0 0 0 0 1 0\n",
      " 1 1 0 0 1 0 0 0 0 0 0 0 1 0 1 0 0 0 0 0 0 0 0 0 0 0 0 0 0 0 0]\n",
      "\n",
      "Decision Tree Results\n",
      "Confusion Matrix: \n",
      "[[41 15]\n",
      " [10  2]]\n",
      "\n",
      " Classifcation Report\n",
      "              precision    recall  f1-score   support\n",
      "\n",
      "           0       0.80      0.73      0.77        56\n",
      "           1       0.12      0.17      0.14        12\n",
      "\n",
      "   micro avg       0.63      0.63      0.63        68\n",
      "   macro avg       0.46      0.45      0.45        68\n",
      "weighted avg       0.68      0.63      0.66        68\n",
      "\n",
      "The number of testing samples:\n",
      "68\n",
      "The number of correct predictions:\n",
      "43\n",
      "[ True  True False False  True  True False False  True  True  True False\n",
      " False False  True  True False False  True False  True  True False False\n",
      " False  True  True  True  True False  True  True  True  True  True  True\n",
      "  True False False  True  True False False  True  True  True  True  True\n",
      "  True False False False False  True False  True  True  True  True  True\n",
      "  True False  True  True  True  True False  True]\n",
      "\n",
      "Accuracy of Decision Tree with Max Depth=10\n",
      "0.63 %\n"
     ]
    }
   ],
   "source": [
    "print \"Decision Tree Regression Prediction with Max Depth=10\" \n",
    "print y_3.round()\n",
    "print \"\\nActual Testing Subset Categorical Values:\"\n",
    "print y_test\n",
    "\n",
    "print \"\\nDecision Tree Results\\nConfusion Matrix: \"\n",
    "print confusion_matrix(y_test,y_3.round())\n",
    "print \"\\n Classifcation Report\"\n",
    "print classification_report(y_test,y_3.round())\n",
    "\n",
    "a=sum(y_3.round()==y_test)\n",
    "b= len(y_test)\n",
    "print 'The number of testing samples:'\n",
    "print b\n",
    "print 'The number of correct predictions:'\n",
    "print a\n",
    "\n",
    "print y_3.round() == y_test\n",
    "print \"\\nAccuracy of Decision Tree with Max Depth=10\"\n",
    "print round(float(a)/float(b),2),\"%\""
   ]
  },
  {
   "cell_type": "markdown",
   "metadata": {},
   "source": [
    "### Ensemble Trees, Voting Classifier\n",
    "logistic, random forest, and gaussian naive bayes used"
   ]
  },
  {
   "cell_type": "code",
   "execution_count": 57,
   "metadata": {},
   "outputs": [
    {
     "name": "stderr",
     "output_type": "stream",
     "text": [
      "C:\\Users\\m\\Anaconda2\\lib\\site-packages\\sklearn\\model_selection\\_split.py:651: Warning: The least populated class in y has only 1 members, which is too few. The minimum number of members in any class cannot be less than n_splits=5.\n",
      "  % (min_groups, self.n_splits)), Warning)\n",
      "C:\\Users\\m\\Anaconda2\\lib\\site-packages\\sklearn\\linear_model\\logistic.py:433: FutureWarning: Default solver will be changed to 'lbfgs' in 0.22. Specify a solver to silence this warning.\n",
      "  FutureWarning)\n",
      "C:\\Users\\m\\Anaconda2\\lib\\site-packages\\sklearn\\linear_model\\logistic.py:460: FutureWarning: Default multi_class will be changed to 'auto' in 0.22. Specify the multi_class option to silence this warning.\n",
      "  \"this warning.\", FutureWarning)\n",
      "C:\\Users\\m\\Anaconda2\\lib\\site-packages\\sklearn\\ensemble\\forest.py:246: FutureWarning: The default value of n_estimators will change from 10 in version 0.20 to 100 in 0.22.\n",
      "  \"10 in version 0.20 to 100 in 0.22.\", FutureWarning)\n"
     ]
    },
    {
     "name": "stdout",
     "output_type": "stream",
     "text": [
      "Accuracy: 0.78 (+/- 0.02) [Logistic Regression]\n",
      "Accuracy: 0.71 (+/- 0.05) [Random Forest]\n",
      "Accuracy: 0.55 (+/- 0.15) [naive Bayes]\n",
      "Accuracy: 0.74 (+/- 0.05) [Ensemble]\n"
     ]
    }
   ],
   "source": [
    "from sklearn import datasets\n",
    "from sklearn.model_selection import cross_val_score\n",
    "from sklearn.linear_model import LogisticRegression\n",
    "from sklearn.naive_bayes import GaussianNB\n",
    "from sklearn.ensemble import RandomForestClassifier\n",
    "from sklearn.ensemble import VotingClassifier\n",
    "\n",
    "clf1 = LogisticRegression(random_state=1)\n",
    "clf2 = RandomForestClassifier(random_state=1)\n",
    "clf3 = GaussianNB()\n",
    "\n",
    "eclf = VotingClassifier(estimators=[('lr', clf1), ('rf', clf2), ('gnb', clf3)], voting='hard')\n",
    "\n",
    "for clf, label in zip([clf1, clf2, clf3, eclf], ['Logistic Regression', 'Random Forest', 'naive Bayes', 'Ensemble']):\n",
    "    scores = cross_val_score(clf, X_train_std, y_train, cv=5, scoring='accuracy')\n",
    "    print(\"Accuracy: %0.2f (+/- %0.2f) [%s]\" % (scores.mean(), scores.std(), label))"
   ]
  },
  {
   "cell_type": "markdown",
   "metadata": {},
   "source": [
    "### PCA then K-means UnSupervised classification"
   ]
  },
  {
   "cell_type": "code",
   "execution_count": 58,
   "metadata": {},
   "outputs": [],
   "source": [
    "%matplotlib inline\n",
    "import matplotlib.pyplot as plt\n",
    "\n",
    "import pandas as pd\n",
    "import numpy as np\n",
    "\n",
    "from sklearn.metrics import classification_report, confusion_matrix\n",
    "from sklearn.decomposition import PCA\n",
    "from sklearn import manifold\n",
    "\n",
    "np.random.seed = 47"
   ]
  },
  {
   "cell_type": "code",
   "execution_count": 59,
   "metadata": {},
   "outputs": [
    {
     "name": "stdout",
     "output_type": "stream",
     "text": [
      "(156L, 7L)\n"
     ]
    }
   ],
   "source": [
    "pca = PCA()\n",
    "X_train_pca = pca.fit_transform(X_train)\n",
    "pca.explained_variance_ratio_\n",
    "print X_train_pca.shape"
   ]
  },
  {
   "cell_type": "code",
   "execution_count": 60,
   "metadata": {},
   "outputs": [
    {
     "data": {
      "image/png": "[encoded data removed]",
      "text/plain": [
       "<Figure size 432x288 with 1 Axes>"
      ]
     },
     "metadata": {
      "needs_background": "light"
     },
     "output_type": "display_data"
    }
   ],
   "source": [
    "plt.bar(range(1,len(pca.explained_variance_ratio_)+1), pca.explained_variance_ratio_, alpha=0.5, align='center')\n",
    "plt.step(range(1,len(pca.explained_variance_ratio_)+1), np.cumsum(pca.explained_variance_ratio_), where='mid')\n",
    "plt.ylabel('Explained variance ratio')\n",
    "plt.xlabel('Principal components')\n",
    "plt.show()"
   ]
  },
  {
   "cell_type": "code",
   "execution_count": 61,
   "metadata": {},
   "outputs": [],
   "source": [
    "n_neighbors = 10\n",
    "n_components = 2"
   ]
  },
  {
   "cell_type": "code",
   "execution_count": 62,
   "metadata": {},
   "outputs": [
    {
     "name": "stdout",
     "output_type": "stream",
     "text": [
      "Wall time: 63 ms\n"
     ]
    },
    {
     "data": {
      "image/png": "[encoded data removed]",
      "text/plain": [
       "<Figure size 720x576 with 2 Axes>"
      ]
     },
     "metadata": {
      "needs_background": "light"
     },
     "output_type": "display_data"
    }
   ],
   "source": [
    "% time Y2 = manifold.LocallyLinearEmbedding(n_neighbors, n_components,\\\n",
    "                                    eigen_solver='auto',\\\n",
    "                                    method='standard').fit_transform(X_train_std)\n",
    "fig = plt.figure(figsize=[10,8])\n",
    "axes = fig.add_subplot(1, 1, 1)#, axisbg='black')\n",
    "plt.ylabel('Component 2')\n",
    "plt.xlabel('Component 1')\n",
    "plt.title('Training Set PCA-2 components and 10 neighbors')\n",
    "plt.scatter(Y2[:, 0], Y2[:, 1], c=y_train, cmap=plt.cm.Spectral,edgecolors='none',s=25,alpha=0.5);\n",
    "cbar=plt.colorbar()\n",
    "#cbar.set_ticks(list(class_mapping.values()))\n",
    "#cbar.set_ticklabels(list(class_mapping.keys()))"
   ]
  },
  {
   "cell_type": "code",
   "execution_count": 63,
   "metadata": {},
   "outputs": [
    {
     "name": "stdout",
     "output_type": "stream",
     "text": [
      "(68L, 7L)\n"
     ]
    }
   ],
   "source": [
    "pca = PCA()\n",
    "X_test_pca = pca.fit_transform(X_test_std)\n",
    "pca.explained_variance_ratio_\n",
    "print X_test_pca.shape"
   ]
  },
  {
   "cell_type": "code",
   "execution_count": 64,
   "metadata": {},
   "outputs": [
    {
     "data": {
      "image/png": "[encoded data removed]",
      "text/plain": [
       "<Figure size 432x288 with 1 Axes>"
      ]
     },
     "metadata": {
      "needs_background": "light"
     },
     "output_type": "display_data"
    }
   ],
   "source": [
    "plt.bar(range(1,len(pca.explained_variance_ratio_)+1), pca.explained_variance_ratio_, alpha=0.5, align='center')\n",
    "plt.step(range(1,len(pca.explained_variance_ratio_)+1), np.cumsum(pca.explained_variance_ratio_), where='mid')\n",
    "plt.ylabel('Explained variance ratio')\n",
    "plt.xlabel('Principal components')\n",
    "plt.show()"
   ]
  },
  {
   "cell_type": "code",
   "execution_count": 65,
   "metadata": {},
   "outputs": [],
   "source": [
    "n_neighbors = 10\n",
    "n_components = 2"
   ]
  },
  {
   "cell_type": "code",
   "execution_count": 66,
   "metadata": {},
   "outputs": [
    {
     "name": "stdout",
     "output_type": "stream",
     "text": [
      "Wall time: 31 ms\n"
     ]
    },
    {
     "data": {
      "image/png": "[encoded data removed]",
      "text/plain": [
       "<Figure size 720x576 with 2 Axes>"
      ]
     },
     "metadata": {
      "needs_background": "light"
     },
     "output_type": "display_data"
    }
   ],
   "source": [
    "% time Y2 = manifold.LocallyLinearEmbedding(n_neighbors, n_components,\\\n",
    "                                    eigen_solver='auto',\\\n",
    "                                    method='standard').fit_transform(X_test_std)\n",
    "fig = plt.figure(figsize=[10,8])\n",
    "axes = fig.add_subplot(1, 1, 1)#, axisbg='black')\n",
    "plt.ylabel('Component 2')\n",
    "plt.xlabel('Component 1')\n",
    "plt.title('Testing Set PCA-2 components and 10 neighbors')\n",
    "plt.scatter(Y2[:, 0], Y2[:, 1], c=y_test, cmap=plt.cm.Spectral,edgecolors='none',s=25,alpha=0.5);\n",
    "cbar=plt.colorbar()\n",
    "#cbar.set_ticks(list(class_mapping.values()))\n",
    "#cbar.set_ticklabels(list(class_mapping.keys()))"
   ]
  },
  {
   "cell_type": "markdown",
   "metadata": {},
   "source": [
    "### K-means"
   ]
  },
  {
   "cell_type": "code",
   "execution_count": 67,
   "metadata": {},
   "outputs": [],
   "source": [
    "from sklearn.cluster import KMeans\n",
    "Y = KMeans(n_clusters=2).fit_transform(X_train_std)"
   ]
  },
  {
   "cell_type": "code",
   "execution_count": 68,
   "metadata": {},
   "outputs": [
    {
     "data": {
      "image/png": "[encoded data removed]",
      "text/plain": [
       "<Figure size 720x576 with 2 Axes>"
      ]
     },
     "metadata": {
      "needs_background": "light"
     },
     "output_type": "display_data"
    }
   ],
   "source": [
    "fig = plt.figure(figsize=[10,8])\n",
    "axes = fig.add_subplot(1, 1, 1)#, axisbg='black')\n",
    "plt.scatter(Y[:, 0], Y[:, 1], c=y_train, cmap=plt.cm.Spectral,edgecolors='none',s=50,alpha=0.5);\n",
    "plt.title('Training Set use of K-means with K=2')\n",
    "cbar=plt.colorbar()\n",
    "#cbar.set_ticks(list(class_mapping.values()))\n",
    "#cbar.set_ticklabels(list(class_mapping.keys()))"
   ]
  },
  {
   "cell_type": "code",
   "execution_count": 69,
   "metadata": {},
   "outputs": [],
   "source": [
    "Y1 = KMeans(n_clusters=2).fit_transform(X_test_std)"
   ]
  },
  {
   "cell_type": "code",
   "execution_count": 70,
   "metadata": {},
   "outputs": [
    {
     "data": {
      "image/png": "[encoded data removed]",
      "text/plain": [
       "<Figure size 720x576 with 2 Axes>"
      ]
     },
     "metadata": {
      "needs_background": "light"
     },
     "output_type": "display_data"
    }
   ],
   "source": [
    "fig = plt.figure(figsize=[10,8])\n",
    "axes = fig.add_subplot(1, 1, 1)#, axisbg='black')\n",
    "plt.scatter(Y1[:, 0], Y1[:, 1], c=y_test, cmap=plt.cm.Spectral,edgecolors='none',s=50,alpha=0.5);\n",
    "plt.title('Testing Set use of K-means with K=2')\n",
    "cbar=plt.colorbar()\n",
    "#cbar.set_ticks(list(class_mapping.values()))\n",
    "#cbar.set_ticklabels(list(class_mapping.keys()))"
   ]
  },
  {
   "cell_type": "markdown",
   "metadata": {},
   "source": [
    "### Random Forests"
   ]
  },
  {
   "cell_type": "code",
   "execution_count": 71,
   "metadata": {},
   "outputs": [
    {
     "name": "stderr",
     "output_type": "stream",
     "text": [
      "C:\\Users\\m\\Anaconda2\\lib\\site-packages\\sklearn\\model_selection\\_split.py:2052: FutureWarning: You should specify a value for 'cv' instead of relying on the default value. The default value will change from 3 to 5 in version 0.22.\n",
      "  warnings.warn(CV_WARNING, FutureWarning)\n",
      "C:\\Users\\m\\Anaconda2\\lib\\site-packages\\sklearn\\model_selection\\_split.py:651: Warning: The least populated class in y has only 1 members, which is too few. The minimum number of members in any class cannot be less than n_splits=3.\n",
      "  % (min_groups, self.n_splits)), Warning)\n",
      "C:\\Users\\m\\Anaconda2\\lib\\site-packages\\sklearn\\model_selection\\_search.py:842: DeprecationWarning: The default of the `iid` parameter will change from True to False in version 0.22 and will be removed in 0.24. This will change numeric results when test-set sizes are unequal.\n",
      "  DeprecationWarning)\n"
     ]
    },
    {
     "name": "stdout",
     "output_type": "stream",
     "text": [
      "GridSearchCV(cv='warn', error_score='raise-deprecating',\n",
      "       estimator=RandomForestClassifier(bootstrap=True, class_weight=None, criterion='gini',\n",
      "            max_depth=None, max_features='auto', max_leaf_nodes=None,\n",
      "            min_impurity_decrease=0.0, min_impurity_split=None,\n",
      "            min_samples_leaf=1, min_samples_split=2,\n",
      "            min_weight_fraction_leaf=0.0, n_estimators='warn', n_jobs=None,\n",
      "            oob_score=False, random_state=47, verbose=0, warm_start=False),\n",
      "       fit_params=None, iid='warn', n_jobs=None,\n",
      "       param_grid={'n_estimators': [5, 10, 50, 100, 200, 300, 400, 1000]},\n",
      "       pre_dispatch='2*n_jobs', refit=True, return_train_score='warn',\n",
      "       scoring=None, verbose=0)\n",
      "Grid Training Set Best Score:  0.75\n",
      "Grid Training Set Best Number of Trees Estimator:  100\n"
     ]
    }
   ],
   "source": [
    "from sklearn.ensemble import RandomForestClassifier\n",
    "from sklearn.model_selection import GridSearchCV\n",
    "\n",
    "n_estimators_list = [5,10,50,100,200,300,400,1000]\n",
    "\n",
    "rfc = RandomForestClassifier(random_state=47)\n",
    "grid = GridSearchCV(estimator=rfc, param_grid=dict(n_estimators=n_estimators_list))\n",
    "grid.fit(X_train_std, y_train)\n",
    "\n",
    "print grid\n",
    "# summarize the results of the grid search\n",
    "print 'Grid Training Set Best Score: ',grid.best_score_\n",
    "print 'Grid Training Set Best Number of Trees Estimator: ', grid.best_estimator_.n_estimators"
   ]
  },
  {
   "cell_type": "code",
   "execution_count": 72,
   "metadata": {},
   "outputs": [
    {
     "name": "stdout",
     "output_type": "stream",
     "text": [
      "GridSearchCV(cv='warn', error_score='raise-deprecating',\n",
      "       estimator=RandomForestClassifier(bootstrap=True, class_weight=None, criterion='gini',\n",
      "            max_depth=None, max_features='auto', max_leaf_nodes=None,\n",
      "            min_impurity_decrease=0.0, min_impurity_split=None,\n",
      "            min_samples_leaf=1, min_samples_split=2,\n",
      "            min_weight_fraction_leaf=0.0, n_estimators='warn', n_jobs=None,\n",
      "            oob_score=False, random_state=47, verbose=0, warm_start=False),\n",
      "       fit_params=None, iid='warn', n_jobs=None,\n",
      "       param_grid={'n_estimators': [5, 10, 50, 100, 200, 300, 400, 1000]},\n",
      "       pre_dispatch='2*n_jobs', refit=True, return_train_score='warn',\n",
      "       scoring=None, verbose=0)\n",
      "Grid Testing Set Best Score:  0.75\n",
      "Grid Testing Set Best Number of Trees Estimator:  10\n"
     ]
    },
    {
     "name": "stderr",
     "output_type": "stream",
     "text": [
      "C:\\Users\\m\\Anaconda2\\lib\\site-packages\\sklearn\\model_selection\\_search.py:842: DeprecationWarning: The default of the `iid` parameter will change from True to False in version 0.22 and will be removed in 0.24. This will change numeric results when test-set sizes are unequal.\n",
      "  DeprecationWarning)\n"
     ]
    }
   ],
   "source": [
    "from sklearn.ensemble import RandomForestClassifier\n",
    "from sklearn.model_selection import GridSearchCV\n",
    "\n",
    "n_estimators_list = [5,10,50,100,200,300,400,1000]\n",
    "\n",
    "rfc = RandomForestClassifier(random_state=47)\n",
    "grid = GridSearchCV(estimator=rfc, param_grid=dict(n_estimators=n_estimators_list))\n",
    "grid.fit(X_test_std, y_test)\n",
    "\n",
    "print grid\n",
    "# summarize the results of the grid search\n",
    "print 'Grid Testing Set Best Score: ',grid.best_score_\n",
    "print 'Grid Testing Set Best Number of Trees Estimator: ', grid.best_estimator_.n_estimators"
   ]
  },
  {
   "cell_type": "code",
   "execution_count": 73,
   "metadata": {},
   "outputs": [
    {
     "name": "stderr",
     "output_type": "stream",
     "text": [
      "C:\\Users\\m\\Anaconda2\\lib\\site-packages\\sklearn\\model_selection\\_search.py:842: DeprecationWarning: The default of the `iid` parameter will change from True to False in version 0.22 and will be removed in 0.24. This will change numeric results when test-set sizes are unequal.\n",
      "  DeprecationWarning)\n"
     ]
    },
    {
     "name": "stdout",
     "output_type": "stream",
     "text": [
      "GridSearchCV(cv='warn', error_score='raise-deprecating',\n",
      "       estimator=RandomForestClassifier(bootstrap=True, class_weight=None, criterion='gini',\n",
      "            max_depth=None, max_features='auto', max_leaf_nodes=None,\n",
      "            min_impurity_decrease=0.0, min_impurity_split=None,\n",
      "            min_samples_leaf=1, min_samples_split=2,\n",
      "            min_weight_fraction_leaf=0.0, n_estimators='warn', n_jobs=None,\n",
      "            oob_score=False, random_state=47, verbose=0, warm_start=False),\n",
      "       fit_params=None, iid='warn', n_jobs=None,\n",
      "       param_grid={'n_estimators': [5, 10, 50, 100, 200, 300, 400, 1000]},\n",
      "       pre_dispatch='2*n_jobs', refit=True, return_train_score='warn',\n",
      "       scoring=None, verbose=0)\n",
      "Grid Training Set Best Score:  0.75\n",
      "Grid Training Set Best Number of Trees Estimator:  100\n"
     ]
    }
   ],
   "source": [
    "from sklearn.ensemble import RandomForestClassifier\n",
    "from sklearn.model_selection import GridSearchCV\n",
    "\n",
    "n_estimators_list = [5,10,50,100,200,300,400,1000]\n",
    "\n",
    "rfc = RandomForestClassifier(random_state=47)\n",
    "grid = GridSearchCV(estimator=rfc, param_grid=dict(n_estimators=n_estimators_list))\n",
    "#grid.fit(X_test_std, y_test)\n",
    "\n",
    "grid.fit(X_train_std, y_train)\n",
    "print grid\n",
    "print 'Grid Training Set Best Score: ',grid.best_score_\n",
    "print 'Grid Training Set Best Number of Trees Estimator: ', grid.best_estimator_.n_estimators"
   ]
  },
  {
   "cell_type": "code",
   "execution_count": null,
   "metadata": {},
   "outputs": [],
   "source": []
  }
 ],
 "metadata": {
  "kernelspec": {
   "display_name": "Python 2",
   "language": "python",
   "name": "python2"
  },
  "language_info": {
   "codemirror_mode": {
    "name": "ipython",
    "version": 2
   },
   "file_extension": ".py",
   "mimetype": "text/x-python",
   "name": "python",
   "nbconvert_exporter": "python",
   "pygments_lexer": "ipython2",
   "version": "2.7.16"
  }
 },
 "nbformat": 4,
 "nbformat_minor": 2
}
